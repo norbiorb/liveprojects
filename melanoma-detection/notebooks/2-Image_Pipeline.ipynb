{
 "cells": [
  {
   "cell_type": "markdown",
   "metadata": {},
   "source": [
    "## Image Pipeline\n",
    "\n",
    "with datasets and dataloaders for labeled and unlabeled images and with data augmentation\n",
    "\n",
    "Reference: https://pytorch.org/tutorials/beginner/data_loading_tutorial.html"
   ]
  },
  {
   "cell_type": "code",
   "execution_count": 1,
   "metadata": {
    "ExecuteTime": {
     "end_time": "2020-11-09T16:22:10.500400Z",
     "start_time": "2020-11-09T16:22:09.810521Z"
    }
   },
   "outputs": [
    {
     "name": "stdout",
     "output_type": "stream",
     "text": [
      "torch version 1.7.0\n",
      "torchvision version 0.8.1\n"
     ]
    }
   ],
   "source": [
    "import os\n",
    "import glob\n",
    "\n",
    "from pathlib import Path\n",
    "\n",
    "from skimage import io\n",
    "\n",
    "import matplotlib.pyplot as plt\n",
    "\n",
    "import torch, torchvision\n",
    "from torch.utils.data import Dataset, DataLoader\n",
    "\n",
    "from torchvision import transforms\n",
    "\n",
    "print(f'torch version {torch.__version__}')\n",
    "print(f'torchvision version {torchvision.__version__}')"
   ]
  },
  {
   "cell_type": "markdown",
   "metadata": {},
   "source": [
    "## Define Dataset classes"
   ]
  },
  {
   "cell_type": "code",
   "execution_count": 2,
   "metadata": {},
   "outputs": [],
   "source": [
    "# reproducibility \n",
    "torch.manual_seed(4247)\n",
    "shuffle = False"
   ]
  },
  {
   "cell_type": "code",
   "execution_count": 3,
   "metadata": {
    "ExecuteTime": {
     "end_time": "2020-11-09T16:22:10.504924Z",
     "start_time": "2020-11-09T16:22:09.850Z"
    }
   },
   "outputs": [],
   "source": [
    "class UnlabeledDataset(Dataset): \n",
    "        \n",
    "    def __init__(self, root_dir, transform=None):\n",
    "        self.root_dir = root_dir\n",
    "        self.transform = transform\n",
    "        self.item_list = self.read_filenames()\n",
    "        \n",
    "    def __len__(self):\n",
    "        if self.item_list == None:\n",
    "            return 0\n",
    "        return len(self.item_list)\n",
    "    \n",
    "    def __getitem__(self, idx):\n",
    "\n",
    "        if self.item_list == None:\n",
    "            return None\n",
    "        \n",
    "        item_path = os.path.join(self.root_dir, self.item_list[idx])\n",
    "        # print(item_path)\n",
    "        sample = io.imread(item_path)\n",
    "        if self.transform:\n",
    "            #sample = torch.from_numpy(sample)\n",
    "            sample = self.transform(sample)\n",
    "            \n",
    "        return sample\n",
    "                \n",
    "    def read_filenames(self):\n",
    "        return [f.split(os.path.sep)[-1] for f in glob.glob(os.path.join(self.root_dir, '*.jpg'))] \n",
    "        \n",
    "        \n",
    "class LabeledDataset(UnlabeledDataset):   \n",
    "    def __init__(self, root_dir, transform=None):\n",
    "        super().__init__(root_dir, transform)\n",
    "    \n",
    "    def __getitem__(self, idx):\n",
    "        if self.item_list == None:\n",
    "            return None\n",
    "        \n",
    "        item_name = self.item_list[idx]\n",
    "        \n",
    "        # labels: 0: benign, 1: malign\n",
    "        label = self.getlabel(item_name)\n",
    "\n",
    "        item_path = os.path.join(self.root_dir, item_name)\n",
    "        # print(item_path)\n",
    "        sample = io.imread(item_path)\n",
    "        \n",
    "        if self.transform:\n",
    "            #sample = torch.from_numpy(sample)\n",
    "            sample = self.transform(sample)\n",
    "        \n",
    "        return {'image': sample, 'label': label}\n",
    "    \n",
    "    def getlabel(self, name):\n",
    "        # label is coded in image name like : 9_0.jpg, 10_1.jpg (0->benign, 1->malign)\n",
    "        # inspection of file names says that even numbers are 0 and odd numbers are 1, \n",
    "        # so we could get the label from the index of the item array, but let's use standard string splitting \n",
    "        label = name.split('.jpg')[0].split('_')[1]\n",
    "        return label\n",
    "        \n",
    "    \n",
    "           "
   ]
  },
  {
   "cell_type": "markdown",
   "metadata": {},
   "source": [
    "## Define Data Loaders"
   ]
  },
  {
   "cell_type": "code",
   "execution_count": 4,
   "metadata": {
    "ExecuteTime": {
     "end_time": "2020-11-09T16:22:10.508058Z",
     "start_time": "2020-11-09T16:22:09.856Z"
    }
   },
   "outputs": [],
   "source": [
    "notebook_dir = os.path.dirname(os.path.realpath('__file__'))\n",
    "unlabeled_dir = os.path.join(Path(notebook_dir).parent, 'data', 'MelanomaDetection', 'unlabeled')\n",
    "labeled_dir = os.path.join(Path(notebook_dir).parent, 'data', 'MelanomaDetection', 'labeled')\n",
    "# print(unlabeled_dir)\n",
    "# print(labeled_dir)"
   ]
  },
  {
   "cell_type": "code",
   "execution_count": 5,
   "metadata": {
    "ExecuteTime": {
     "end_time": "2020-11-09T16:22:10.509128Z",
     "start_time": "2020-11-09T16:22:09.858Z"
    }
   },
   "outputs": [],
   "source": [
    "# create data loaders\n",
    "batch_size = 4\n",
    "\n",
    "unlabeled_dataloader = DataLoader(\n",
    "    dataset=UnlabeledDataset(unlabeled_dir), \n",
    "    batch_size=batch_size, \n",
    "    shuffle=shuffle, \n",
    "    num_workers=0\n",
    ")\n",
    "labeled_dataloader = DataLoader(\n",
    "    dataset=LabeledDataset(labeled_dir), \n",
    "    batch_size=batch_size, \n",
    "    shuffle=shuffle, \n",
    "    num_workers=0\n",
    ")"
   ]
  },
  {
   "cell_type": "markdown",
   "metadata": {},
   "source": [
    "## "
   ]
  },
  {
   "cell_type": "markdown",
   "metadata": {},
   "source": [
    "## Define some Augmentations"
   ]
  },
  {
   "cell_type": "code",
   "execution_count": 6,
   "metadata": {},
   "outputs": [],
   "source": [
    "# test some transformations from torchvision.transforms\n",
    "\n",
    "img_size = 32\n",
    "\n",
    "# crop size\n",
    "size = 30\n",
    "randomCrop = transforms.RandomResizedCrop(size=size)\n",
    "\n",
    "padding = 32\n",
    "pad = transforms.Pad(50, fill=0, padding_mode='edge')\n",
    "randomRotate = transforms.RandomRotation(degrees=(0, 30), expand=True)\n",
    "\n",
    "randomHorizontalFlip = transforms.RandomHorizontalFlip(p=0.5)\n",
    "randomColorJitter = transforms.ColorJitter(brightness=0.05, contrast=0.05, saturation=0.05, hue=0.05)\n",
    "gaussianBlur = transforms.GaussianBlur(kernel_size=3)\n",
    "                                         \n",
    "composed = transforms.Compose([\n",
    "    transforms.ToPILImage(),\n",
    "    # randomCrop, \n",
    "    pad,\n",
    "    randomRotate,\n",
    "    transforms.CenterCrop(img_size),\n",
    "    randomHorizontalFlip,\n",
    "    randomColorJitter,\n",
    "    gaussianBlur,\n",
    "    transforms.ToTensor()\n",
    "])"
   ]
  },
  {
   "cell_type": "code",
   "execution_count": 7,
   "metadata": {
    "ExecuteTime": {
     "end_time": "2020-11-09T16:22:10.510904Z",
     "start_time": "2020-11-09T16:22:09.863Z"
    }
   },
   "outputs": [],
   "source": [
    "# creat data loaders\n",
    "batch_size = 4\n",
    "\n",
    "transformed_unlabeled_dataloader = DataLoader(\n",
    "    dataset=UnlabeledDataset(unlabeled_dir, transform=composed), \n",
    "    batch_size=batch_size, \n",
    "    shuffle=shuffle, \n",
    "    num_workers=0\n",
    ")\n",
    "transformed_labeled_dataloader = DataLoader(\n",
    "    dataset=LabeledDataset(labeled_dir, transform=composed),\n",
    "    batch_size=batch_size, \n",
    "    shuffle=shuffle, \n",
    "    num_workers=0\n",
    ")"
   ]
  },
  {
   "cell_type": "code",
   "execution_count": 8,
   "metadata": {},
   "outputs": [],
   "source": [
    "tud = iter(transformed_unlabeled_dataloader)\n",
    "tld = iter(transformed_labeled_dataloader)"
   ]
  },
  {
   "cell_type": "markdown",
   "metadata": {},
   "source": [
    "## Show Images"
   ]
  },
  {
   "cell_type": "code",
   "execution_count": 9,
   "metadata": {
    "ExecuteTime": {
     "end_time": "2020-11-09T16:22:10.510096Z",
     "start_time": "2020-11-09T16:22:09.860Z"
    }
   },
   "outputs": [],
   "source": [
    "# show all images of a batch\n",
    "def show_images(images, labels=None, fig_title=None):\n",
    "    batch_size = len(images)\n",
    "    cols = 4\n",
    "    rows = batch_size // cols + 1\n",
    "    if batch_size%cols == 0:\n",
    "        rows = batch_size // cols \n",
    "    \n",
    "    fig = plt.figure()\n",
    "    fig, axes = plt.subplots(rows, cols, figsize=(2*cols, 2*cols))\n",
    "\n",
    "    if fig_title is not None:\n",
    "        fig.suptitle(fig_title, fontsize=20, y=0.7)\n",
    "        \n",
    "    for i in range(batch_size):\n",
    "        \n",
    "        if rows == 1:\n",
    "            ax = axes[i]\n",
    "        else:\n",
    "            ax = axes[i//cols, i%cols]\n",
    "        title = f'Sample #{i+1}'\n",
    "        if labels:\n",
    "            title = f'{title}\\nlabel: {labels[i]}'\n",
    "        ax.set_title(title, fontsize=12)\n",
    "        ax.axis('off')\n",
    "        ax.imshow(images[i], aspect='equal')\n",
    "        \n",
    "        \n",
    "    # if there are remaining slots\n",
    "    for i in range(batch_size, rows*cols):\n",
    "        ax = axes[i//cols, i%cols]\n",
    "        ax.axis('off')\n",
    "        \n",
    "    plt.tight_layout()\n",
    "    fig.subplots_adjust()\n",
    " \n",
    "    plt.show()\n",
    "    \n",
    "\n",
    "def show_batch(dataloader, transformed=False, title=None):\n",
    "    data_iter = iter(dataloader)\n",
    "    batch = next(data_iter)\n",
    " \n",
    "    images = None\n",
    "    labels = None\n",
    "    if type(batch) is dict:\n",
    "        images = batch['image']\n",
    "        labels = batch['label']\n",
    "    else:\n",
    "        images = batch  \n",
    "        \n",
    "    if transformed:\n",
    "        # toPILImage transformation return images with dimensions [channels, height, width]\n",
    "        # -> permute [batch_size, channels, height, width] to [batch_sizechannels, height, width, channels]\n",
    "        # to show the images with matplotlib\n",
    "        images = images.permute(0, 2, 3, 1)\n",
    "        \n",
    "    show_images(images, labels, title)\n",
    "    "
   ]
  },
  {
   "cell_type": "code",
   "execution_count": 10,
   "metadata": {},
   "outputs": [
    {
     "data": {
      "text/plain": [
       "<Figure size 432x288 with 0 Axes>"
      ]
     },
     "metadata": {},
     "output_type": "display_data"
    },
    {
     "data": {
      "image/png": "[encoded data removed]",
      "text/plain": [
       "<Figure size 576x576 with 4 Axes>"
      ]
     },
     "metadata": {
      "needs_background": "light"
     },
     "output_type": "display_data"
    }
   ],
   "source": [
    "title = 'Unlabeled Images'\n",
    "show_batch(unlabeled_dataloader, title=title)"
   ]
  },
  {
   "cell_type": "code",
   "execution_count": 11,
   "metadata": {},
   "outputs": [
    {
     "data": {
      "text/plain": [
       "<Figure size 432x288 with 0 Axes>"
      ]
     },
     "metadata": {},
     "output_type": "display_data"
    },
    {
     "data": {
      "image/png": "[encoded data removed]",
      "text/plain": [
       "<Figure size 576x576 with 4 Axes>"
      ]
     },
     "metadata": {
      "needs_background": "light"
     },
     "output_type": "display_data"
    }
   ],
   "source": [
    "title = 'Labeled Images'\n",
    "show_batch(labeled_dataloader, title=title)"
   ]
  },
  {
   "cell_type": "code",
   "execution_count": 12,
   "metadata": {},
   "outputs": [
    {
     "data": {
      "text/plain": [
       "<Figure size 432x288 with 0 Axes>"
      ]
     },
     "metadata": {},
     "output_type": "display_data"
    },
    {
     "data": {
      "image/png": "[encoded data removed]",
      "text/plain": [
       "<Figure size 576x576 with 4 Axes>"
      ]
     },
     "metadata": {
      "needs_background": "light"
     },
     "output_type": "display_data"
    }
   ],
   "source": [
    "title = 'Augmented unlabeled Images'\n",
    "show_batch(transformed_unlabeled_dataloader, transformed=True, title=title)"
   ]
  },
  {
   "cell_type": "code",
   "execution_count": 13,
   "metadata": {},
   "outputs": [
    {
     "data": {
      "text/plain": [
       "<Figure size 432x288 with 0 Axes>"
      ]
     },
     "metadata": {},
     "output_type": "display_data"
    },
    {
     "data": {
      "image/png": "[encoded data removed]",
      "text/plain": [
       "<Figure size 576x576 with 4 Axes>"
      ]
     },
     "metadata": {
      "needs_background": "light"
     },
     "output_type": "display_data"
    }
   ],
   "source": [
    "title='Augmented labeled Images'\n",
    "show_batch(transformed_labeled_dataloader, transformed=True, title=title)"
   ]
  },
  {
   "cell_type": "code",
   "execution_count": null,
   "metadata": {},
   "outputs": [],
   "source": []
  }
 ],
 "metadata": {
  "kernelspec": {
   "display_name": "torch",
   "language": "python",
   "name": "torch"
  },
  "language_info": {
   "codemirror_mode": {
    "name": "ipython",
    "version": 3
   },
   "file_extension": ".py",
   "mimetype": "text/x-python",
   "name": "python",
   "nbconvert_exporter": "python",
   "pygments_lexer": "ipython3",
   "version": "3.8.6"
  },
  "latex_envs": {
   "LaTeX_envs_menu_present": true,
   "autoclose": false,
   "autocomplete": true,
   "bibliofile": "biblio.bib",
   "cite_by": "apalike",
   "current_citInitial": 1,
   "eqLabelWithNumbers": true,
   "eqNumInitial": 1,
   "hotkeys": {
    "equation": "Ctrl-E",
    "itemize": "Ctrl-I"
   },
   "labels_anchors": false,
   "latex_user_defs": false,
   "report_style_numbering": false,
   "user_envs_cfg": false
  },
  "toc": {
   "base_numbering": 1,
   "nav_menu": {},
   "number_sections": true,
   "sideBar": true,
   "skip_h1_title": false,
   "title_cell": "Table of Contents",
   "title_sidebar": "Contents",
   "toc_cell": false,
   "toc_position": {},
   "toc_section_display": true,
   "toc_window_display": false
  },
  "varInspector": {
   "cols": {
    "lenName": 16,
    "lenType": 16,
    "lenVar": 40
   },
   "kernels_config": {
    "python": {
     "delete_cmd_postfix": "",
     "delete_cmd_prefix": "del ",
     "library": "var_list.py",
     "varRefreshCmd": "print(var_dic_list())"
    },
    "r": {
     "delete_cmd_postfix": ") ",
     "delete_cmd_prefix": "rm(",
     "library": "var_list.r",
     "varRefreshCmd": "cat(var_dic_list()) "
    }
   },
   "types_to_exclude": [
    "module",
    "function",
    "builtin_function_or_method",
    "instance",
    "_Feature"
   ],
   "window_display": false
  }
 },
 "nbformat": 4,
 "nbformat_minor": 4
}

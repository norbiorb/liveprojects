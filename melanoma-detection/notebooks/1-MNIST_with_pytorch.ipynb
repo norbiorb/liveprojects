{
 "cells": [
  {
   "cell_type": "markdown",
   "metadata": {},
   "source": [
    "# MNIST classifier in pytorch\n",
    "\n",
    "References: \n",
    "* https://pytorch.org/tutorials/beginner/blitz/cifar10_tutorial.html\n",
    "* https://pytorch.org/tutorials/intermediate/tensorboard_tutorial.html"
   ]
  },
  {
   "cell_type": "code",
   "execution_count": 38,
   "metadata": {},
   "outputs": [],
   "source": [
    "#!pip install optuna"
   ]
  },
  {
   "cell_type": "code",
   "execution_count": 1,
   "metadata": {
    "ExecuteTime": {
     "end_time": "2020-08-23T12:47:16.974285Z",
     "start_time": "2020-08-23T12:47:16.911840Z"
    }
   },
   "outputs": [],
   "source": [
    "import torch, torchvision\n",
    "import torchvision.transforms as transforms\n",
    "import torch.nn as nn\n",
    "import torch.nn.functional as F\n",
    "import torch.optim as optim\n",
    "from torch.utils.data import random_split\n",
    "\n",
    "from torch.utils.tensorboard import SummaryWriter\n",
    "\n",
    "import pandas as pd\n",
    "from sklearn.metrics import confusion_matrix, accuracy_score\n",
    "import matplotlib.pyplot as plt\n",
    "import seaborn as sns\n",
    "\n",
    "import numpy as np\n",
    "\n",
    "import optuna"
   ]
  },
  {
   "cell_type": "markdown",
   "metadata": {
    "ExecuteTime": {
     "end_time": "2020-08-21T10:24:38.334049Z",
     "start_time": "2020-08-21T10:24:38.329207Z"
    }
   },
   "source": [
    "## Load MNIST train, validation and test datasets"
   ]
  },
  {
   "cell_type": "code",
   "execution_count": 2,
   "metadata": {
    "ExecuteTime": {
     "end_time": "2020-08-23T12:47:25.670314Z",
     "start_time": "2020-08-23T12:47:25.578061Z"
    }
   },
   "outputs": [],
   "source": [
    "def get_mnist(batchsize):\n",
    "    \n",
    "    # transformer for the images\n",
    "    transform = transforms.Compose([\n",
    "        transforms.ToTensor(),\n",
    "        transforms.Normalize((0.5), (0.5))\n",
    "    ])\n",
    "    \n",
    "    trainset_all = torchvision.datasets.MNIST(root='./data', train=True,\n",
    "                                            download=True, transform=transform)\n",
    "\n",
    "    # train validation sets sizes\n",
    "    lengths = [int(len(trainset_all)*0.8), int(len(trainset_all)*0.2)]\n",
    "\n",
    "    # seed for reproducibility\n",
    "    seed = 47\n",
    "\n",
    "    trainset, validationset = random_split(trainset_all, lengths, generator=torch.Generator().manual_seed(seed))\n",
    "\n",
    "    trainloader = torch.utils.data.DataLoader(trainset, batch_size=batchsize,\n",
    "                                              shuffle=True, num_workers=1)\n",
    "\n",
    "    validationloader = torch.utils.data.DataLoader(validationset, batch_size=batchsize,\n",
    "                                              shuffle=True, num_workers=1)\n",
    "\n",
    "    testset = torchvision.datasets.MNIST(root='./data', train=False,\n",
    "                                           download=True, transform=transform)\n",
    "\n",
    "    testloader = torch.utils.data.DataLoader(testset, batch_size=batchsize,\n",
    "                                             shuffle=False, num_workers=1)\n",
    "    \n",
    "    return trainset, validationset, testset, trainloader, validationloader, testloader\n",
    "\n",
    "\n",
    "# get images\n",
    "trainset, validationset, testset, trainloader, validationloader, testloader = get_mnist(batchsize=4)"
   ]
  },
  {
   "cell_type": "code",
   "execution_count": 3,
   "metadata": {
    "ExecuteTime": {
     "end_time": "2020-08-23T12:48:32.669356Z",
     "start_time": "2020-08-23T12:48:32.652857Z"
    }
   },
   "outputs": [
    {
     "data": {
      "text/plain": [
       "['0 - zero',\n",
       " '1 - one',\n",
       " '2 - two',\n",
       " '3 - three',\n",
       " '4 - four',\n",
       " '5 - five',\n",
       " '6 - six',\n",
       " '7 - seven',\n",
       " '8 - eight',\n",
       " '9 - nine']"
      ]
     },
     "execution_count": 3,
     "metadata": {},
     "output_type": "execute_result"
    }
   ],
   "source": [
    "classes = torchvision.datasets.MNIST.classes\n",
    "classes"
   ]
  },
  {
   "cell_type": "markdown",
   "metadata": {},
   "source": [
    "## Show some example images"
   ]
  },
  {
   "cell_type": "code",
   "execution_count": 4,
   "metadata": {
    "ExecuteTime": {
     "end_time": "2020-08-23T12:48:37.298543Z",
     "start_time": "2020-08-23T12:48:35.339697Z"
    }
   },
   "outputs": [
    {
     "name": "stdout",
     "output_type": "stream",
     "text": [
      "torch.Size([4, 1, 28, 28]) tensor([0, 1, 3, 0])\n"
     ]
    },
    {
     "data": {
      "image/png": "[encoded data removed]",
      "text/plain": [
       "<Figure size 432x288 with 1 Axes>"
      ]
     },
     "metadata": {
      "needs_background": "light"
     },
     "output_type": "display_data"
    },
    {
     "name": "stdout",
     "output_type": "stream",
     "text": [
      "0 - zero 1 - one 3 - three 0 - zero\n"
     ]
    }
   ],
   "source": [
    "def imshow(img):\n",
    "    img = img / 2 + 0.5     # unnormalize\n",
    "    npimg = img.numpy()\n",
    "    plt.imshow(np.transpose(npimg, (1, 2, 0)))\n",
    "    plt.show()\n",
    "\n",
    "dataiter = iter(trainloader)\n",
    "images, labels = dataiter.next()\n",
    "\n",
    "print(images.shape, labels)\n",
    "\n",
    "# show images\n",
    "imshow(torchvision.utils.make_grid(images))\n",
    "# print labels\n",
    "print(' '.join('%5s' % classes[labels[j]] for j in range(4)))\n"
   ]
  },
  {
   "cell_type": "code",
   "execution_count": 5,
   "metadata": {},
   "outputs": [
    {
     "name": "stdout",
     "output_type": "stream",
     "text": [
      "48000\n",
      "12000\n",
      "10000\n"
     ]
    }
   ],
   "source": [
    "print(len(trainset))\n",
    "print(len(validationset))\n",
    "print(len(testset))"
   ]
  },
  {
   "cell_type": "markdown",
   "metadata": {},
   "source": [
    "## Define Network"
   ]
  },
  {
   "cell_type": "code",
   "execution_count": 6,
   "metadata": {
    "ExecuteTime": {
     "end_time": "2020-08-22T18:13:27.879714Z",
     "start_time": "2020-08-22T18:13:27.867091Z"
    }
   },
   "outputs": [],
   "source": [
    "class Net(nn.Module):\n",
    "    def __init__(self, input_size=(1,1,28,28)):\n",
    "        super(Net, self).__init__()\n",
    "        \n",
    "        # input size is : (batch_size, channels, width, height)\n",
    "        self.input_size = input_size\n",
    "        self.width = input_size[2]\n",
    "        self.height = input_size[3]\n",
    "        self.channels = input_size[1]\n",
    "        \n",
    "        self.conv1 = nn.Conv2d(in_channels=self.channels, out_channels=6, kernel_size=5)\n",
    "        \n",
    "        h1_out = self.calculate_size(self.width, 5, 1, 1, 0)\n",
    "        \n",
    "        self.pool = nn.MaxPool2d(kernel_size=2, stride=2)\n",
    "      \n",
    "        self.conv2 = nn.Conv2d(in_channels=6, out_channels=16, kernel_size=5)\n",
    "        \n",
    "        h2_out = self.calculate_size(int(h1_out/2), 5, 1, 1, 0)\n",
    "        \n",
    "        self.fc1 = nn.Linear(in_features=16 * int(h2_out/2) * int(h2_out/2), out_features=120)     \n",
    "        self.fc2 = nn.Linear(in_features=120, out_features=84)     \n",
    "        self.fc3 = nn.Linear(in_features=84, out_features=10)\n",
    "\n",
    "    def forward(self, x):\n",
    "       \n",
    "        x = F.relu(self.conv1(x))  \n",
    "        x = self.pool(x)     \n",
    "        x = F.relu(self.conv2(x))     \n",
    "        x = self.pool(x)\n",
    "        \n",
    "        h1_out = self.calculate_size(self.width, 5, 1, 1, 0)\n",
    "        h2_out = self.calculate_size(int(h1_out/2), 5, 1, 1, 0)\n",
    "       \n",
    "        x = x.view(-1, 16 * int(h2_out/2) * int(h2_out/2))       \n",
    "        x = F.relu(self.fc1(x))       \n",
    "        x = F.relu(self.fc2(x))       \n",
    "        x = self.fc3(x)       \n",
    "        return x\n",
    "    \n",
    "    def calculate_size(self, size_in, kernel_size, dilatation, stride, padding):\n",
    "        # see https://pytorch.org/docs/stable/generated/torch.nn.Conv2d.html#torch.nn.Conv2d\n",
    "        nominator = size_in + 2*padding - dilatation*(kernel_size-1) -1\n",
    "        size_out = int(np.floor(nominator/stride +1))\n",
    "        return size_out\n",
    "        \n",
    "def create_model():\n",
    "    return Net()\n"
   ]
  },
  {
   "cell_type": "code",
   "execution_count": null,
   "metadata": {},
   "outputs": [],
   "source": []
  },
  {
   "cell_type": "markdown",
   "metadata": {},
   "source": [
    "## Hyperparameter search \n",
    "\n",
    "Let's use [Optuna](https://optuna.org/)\n",
    "\n",
    "Code reference for an Optuna example: https://github.com/optuna/optuna/blob/master/examples/pytorch_simple.py"
   ]
  },
  {
   "cell_type": "code",
   "execution_count": 7,
   "metadata": {},
   "outputs": [],
   "source": [
    "torch.manual_seed(12345)\n",
    "dtype = torch.float\n",
    "device = torch.device(\"cuda\" if torch.cuda.is_available() else \"cpu\")"
   ]
  },
  {
   "cell_type": "code",
   "execution_count": 17,
   "metadata": {},
   "outputs": [],
   "source": [
    "# Hyperparameter used:\n",
    "# learning rate\n",
    "# batchsize\n",
    "# optimizer type\n",
    "\n",
    "\n",
    "def objective(trial):\n",
    "    \n",
    "    epochs = 2\n",
    "    # Generate the model.\n",
    "    model = create_model().to(device)\n",
    "    \n",
    "    criterion = nn.CrossEntropyLoss()\n",
    "\n",
    "    # Generate the optimizers.\n",
    "    optimizer_name = trial.suggest_categorical(\"optimizer\", [\"Adam\", \"RMSprop\", \"SGD\"])\n",
    "    lr = trial.suggest_float(\"lr\", 1e-5, 1e-1, log=True)\n",
    "    optimizer = getattr(optim, optimizer_name)(model.parameters(), lr=lr)\n",
    "\n",
    "    # Get the MNIST dataset using batchsize hyperparameter\n",
    "    batchsize = trial.suggest_categorical('batchsize', [4, 16])\n",
    "    trainset, validationset, testset, trainloader, validationloader, testloader = get_mnist(batchsize)\n",
    "    \n",
    "    n_train_examples = len(trainset)\n",
    "    n_validation_examples = len(validationset)\n",
    "\n",
    "    # Training of the model.\n",
    "    for epoch in range(epochs):\n",
    "        model.train()\n",
    "        for batch_idx, (data, target) in enumerate(trainloader):\n",
    "            # Limiting training data for faster epochs.\n",
    "            if batch_idx * batchsize >= n_train_examples:\n",
    "                break\n",
    "\n",
    "            #data = data.view(data.size(0), -1).to(device)\n",
    "            data = data.to(device)\n",
    "            target = target.to(device)\n",
    "\n",
    "            optimizer.zero_grad()\n",
    "            output = model(data)\n",
    "            loss = criterion(output, target)\n",
    "            \n",
    "            loss.backward()\n",
    "            optimizer.step()\n",
    "\n",
    "        # Validation of the model.\n",
    "        model.eval()\n",
    "        correct = 0.0\n",
    "        with torch.no_grad():\n",
    "            for batch_idx, (data, target) in enumerate(validationloader):\n",
    "                # Limiting validation data.\n",
    "                if batch_idx * batchsize >= n_validation_examples:\n",
    "                    break\n",
    "                #data, target = data.view(data.size(0), -1).to(device), target.to(device)\n",
    "                data = data.to(device)\n",
    "                target = target.to(device)\n",
    "                \n",
    "                output = model(data)\n",
    "                # Get the index of the max log-probability.\n",
    "                pred = output.argmax(dim=1, keepdim=True)\n",
    "                correct += pred.eq(target.view_as(pred)).sum().item()\n",
    "\n",
    "        accuracy = correct / min(len(validationloader.dataset), n_validation_examples)\n",
    "\n",
    "        trial.report(accuracy, epoch)\n",
    "\n",
    "        # Handle pruning based on the intermediate value.\n",
    "        if trial.should_prune():\n",
    "            raise optuna.exceptions.TrialPruned()\n",
    "\n",
    "    return accuracy"
   ]
  },
  {
   "cell_type": "code",
   "execution_count": 18,
   "metadata": {},
   "outputs": [
    {
     "name": "stderr",
     "output_type": "stream",
     "text": [
      "[I 2020-09-02 16:21:34,496] Trial 0 finished with value: 0.8989166666666667 and parameters: {'optimizer': 'RMSprop', 'lr': 1.1695005681741882e-05, 'batchsize': 4}. Best is trial 0 with value: 0.8989166666666667.\n",
      "[I 2020-09-02 16:22:12,738] Trial 1 finished with value: 0.9820833333333333 and parameters: {'optimizer': 'SGD', 'lr': 0.02964495377359948, 'batchsize': 16}. Best is trial 1 with value: 0.9820833333333333.\n",
      "[I 2020-09-02 16:22:58,290] Trial 2 finished with value: 0.8948333333333334 and parameters: {'optimizer': 'SGD', 'lr': 0.002349685526187193, 'batchsize': 16}. Best is trial 1 with value: 0.9820833333333333.\n"
     ]
    },
    {
     "name": "stdout",
     "output_type": "stream",
     "text": [
      "Study statistics: \n",
      "  Number of finished trials:  3\n",
      "  Number of pruned trials:  0\n",
      "  Number of complete trials:  3\n",
      "Best trial:\n",
      "  Value:  0.9820833333333333\n",
      "  Params: \n",
      "    optimizer: SGD\n",
      "    lr: 0.02964495377359948\n",
      "    batchsize: 16\n"
     ]
    }
   ],
   "source": [
    "# Run hyper parameter search\n",
    "\n",
    "# try 3 times\n",
    "n_trials = 3\n",
    "\n",
    "study = optuna.create_study(direction=\"maximize\")\n",
    "study.optimize(objective, n_trials=n_trials, timeout=600)\n",
    "\n",
    "pruned_trials = [t for t in study.trials if t.state == optuna.trial.TrialState.PRUNED]\n",
    "complete_trials = [t for t in study.trials if t.state == optuna.trial.TrialState.COMPLETE]\n",
    "\n",
    "print(\"Study statistics: \")\n",
    "print(\"  Number of finished trials: \", len(study.trials))\n",
    "print(\"  Number of pruned trials: \", len(pruned_trials))\n",
    "print(\"  Number of complete trials: \", len(complete_trials))\n",
    "\n",
    "print(\"Best trial:\")\n",
    "trial = study.best_trial\n",
    "\n",
    "print(\"  Value: \", trial.value)\n",
    "\n",
    "print(\"  Params: \")\n",
    "for key, value in trial.params.items():\n",
    "    print(\"    {}: {}\".format(key, value))"
   ]
  },
  {
   "cell_type": "markdown",
   "metadata": {},
   "source": [
    "## Use Best Parameters"
   ]
  },
  {
   "cell_type": "code",
   "execution_count": 24,
   "metadata": {
    "ExecuteTime": {
     "end_time": "2020-08-22T18:13:27.883294Z",
     "start_time": "2020-08-22T18:13:27.881041Z"
    }
   },
   "outputs": [],
   "source": [
    "model = create_model()\n",
    "criterion = nn.CrossEntropyLoss()\n",
    "optimizer = optim.SGD(model.parameters(), lr=0.0296)\n",
    "batchsize = 16\n",
    "epochs = 8"
   ]
  },
  {
   "cell_type": "markdown",
   "metadata": {},
   "source": [
    "## Training Loop"
   ]
  },
  {
   "cell_type": "code",
   "execution_count": 20,
   "metadata": {},
   "outputs": [],
   "source": [
    "def validate(model, criterion, dataloader, summary_writer, batch_idx, epoch, device):\n",
    "    # validation mode\n",
    "    model.eval() \n",
    "    \n",
    "    correct = 0.0\n",
    "    total = 0.0\n",
    "    running_loss = 0.0\n",
    "    \n",
    "    with torch.no_grad(): #gradients should not eval        \n",
    "        for i, (data, target) in enumerate(dataloader):\n",
    "            \n",
    "            data = data.to(device)\n",
    "            target = target.to(device)      \n",
    "            \n",
    "            output = model(data)\n",
    "            loss = criterion(output, target)\n",
    "            running_loss += loss.item()\n",
    "            \n",
    "            max_proba, predicted = torch.max(output.data, dim=1)\n",
    "            total += target.size(0)\n",
    "            correct += (predicted == target).sum().item()\n",
    "        \n",
    "    accuracy = correct / total\n",
    "        \n",
    "    summary_writer.add_scalar('Loss/validation',\n",
    "                running_loss,\n",
    "                epoch * len(dataloader) + batch_idx)\n",
    "\n",
    "    summary_writer.add_scalar('Accuracy/validation', \n",
    "                accuracy, \n",
    "                epoch * len(dataloader) + batch_idx)\n",
    "\n",
    "    print('[%d, %5d] validation loss: %.3f validation accuracy: %3f' %\n",
    "          (epoch + 1, batch_idx + 1, running_loss, accuracy))\n",
    "        \n",
    "    model.train()\n",
    "    return summary_writer\n",
    "\n",
    "\n",
    "def train(model, optimizer, criterion, trainloader, validationloader, writer, epochs, device):\n",
    "    for epoch in range(epochs):  # loop over the dataset multiple times\n",
    "\n",
    "        running_loss = 0.0\n",
    "        correct = 0.0\n",
    "        total = 0.0\n",
    "        for i, (data, target) in enumerate(trainloader, 0):\n",
    "            \n",
    "            data = data.to(device)\n",
    "            target = target.to(device)\n",
    "\n",
    "            # zero the parameter gradients\n",
    "            optimizer.zero_grad()\n",
    "\n",
    "            # forward + backward + optimize\n",
    "            output = model(data)\n",
    "            loss = criterion(output, target)\n",
    "            loss.backward()\n",
    "            optimizer.step()\n",
    "\n",
    "            # print statistics\n",
    "            running_loss += loss.item()\n",
    "            max_proba, predicted = torch.max(output.data, dim=1)\n",
    "            total += target.size(0)\n",
    "            correct += (predicted == target).sum().item()\n",
    "\n",
    "            if i % 2000 == 1999:    # print every 2000 mini-batches\n",
    "                print('[%d, %5d] loss: %.3f' %\n",
    "                      (epoch + 1, i + 1, running_loss / 2000))\n",
    "\n",
    "                print('[%d, %5d] accuracy: %.3f' %\n",
    "                      (epoch + 1, i + 1, correct/total))\n",
    "\n",
    "                running_loss = 0.0\n",
    "                total = 0.0\n",
    "                correct = 0.0\n",
    "                \n",
    "                # evaluate validation data\n",
    "                validate(model, criterion, validationloader, SummaryWriter(), i, epoch, device)\n",
    "\n",
    "    print('Finished Training')\n",
    "    return model\n",
    "      "
   ]
  },
  {
   "cell_type": "code",
   "execution_count": 25,
   "metadata": {},
   "outputs": [
    {
     "name": "stdout",
     "output_type": "stream",
     "text": [
      "[1,  2000] loss: 0.453\n",
      "[1,  2000] accuracy: 0.851\n",
      "[1,  2000] validation loss: 76.339 validation accuracy: 0.967333\n",
      "[2,  2000] loss: 0.071\n",
      "[2,  2000] accuracy: 0.978\n",
      "[2,  2000] validation loss: 47.076 validation accuracy: 0.980000\n",
      "[3,  2000] loss: 0.049\n",
      "[3,  2000] accuracy: 0.985\n",
      "[3,  2000] validation loss: 37.557 validation accuracy: 0.982417\n",
      "[4,  2000] loss: 0.036\n",
      "[4,  2000] accuracy: 0.988\n",
      "[4,  2000] validation loss: 47.188 validation accuracy: 0.980917\n",
      "[5,  2000] loss: 0.029\n",
      "[5,  2000] accuracy: 0.991\n",
      "[5,  2000] validation loss: 31.135 validation accuracy: 0.987667\n",
      "[6,  2000] loss: 0.025\n",
      "[6,  2000] accuracy: 0.993\n",
      "[6,  2000] validation loss: 31.424 validation accuracy: 0.986667\n",
      "[7,  2000] loss: 0.019\n",
      "[7,  2000] accuracy: 0.993\n",
      "[7,  2000] validation loss: 30.260 validation accuracy: 0.987333\n",
      "[8,  2000] loss: 0.016\n",
      "[8,  2000] accuracy: 0.995\n",
      "[8,  2000] validation loss: 26.926 validation accuracy: 0.989917\n",
      "Finished Training\n"
     ]
    }
   ],
   "source": [
    "trainset, validationset, testset, trainloader, validationloader, testloader = get_mnist(batchsize)\n",
    "\n",
    "# Statistics Writer for Tensorboard\n",
    "writer = SummaryWriter()\n",
    "epochs = 8\n",
    "\n",
    "model = train(model, optimizer, criterion, trainloader, validationloader, writer, epochs=epochs, device=device)"
   ]
  },
  {
   "cell_type": "markdown",
   "metadata": {},
   "source": [
    "## Save trained network"
   ]
  },
  {
   "cell_type": "code",
   "execution_count": 26,
   "metadata": {
    "ExecuteTime": {
     "end_time": "2020-08-22T18:13:35.667375Z",
     "start_time": "2020-08-22T18:13:25.782Z"
    }
   },
   "outputs": [],
   "source": [
    "PATH = './mnist_net.pth'\n",
    "torch.save(model.state_dict(), PATH)"
   ]
  },
  {
   "cell_type": "markdown",
   "metadata": {},
   "source": [
    "## Predict test data with the trained network"
   ]
  },
  {
   "cell_type": "code",
   "execution_count": 27,
   "metadata": {
    "ExecuteTime": {
     "end_time": "2020-08-22T18:13:35.668627Z",
     "start_time": "2020-08-22T18:13:25.993Z"
    }
   },
   "outputs": [
    {
     "data": {
      "text/plain": [
       "<All keys matched successfully>"
      ]
     },
     "execution_count": 27,
     "metadata": {},
     "output_type": "execute_result"
    }
   ],
   "source": [
    "# Load the trained model\n",
    "model = create_model()\n",
    "model.load_state_dict(torch.load(PATH))"
   ]
  },
  {
   "cell_type": "code",
   "execution_count": 28,
   "metadata": {
    "ExecuteTime": {
     "end_time": "2020-08-22T18:13:35.669798Z",
     "start_time": "2020-08-22T18:13:25.996Z"
    }
   },
   "outputs": [],
   "source": [
    "# predict test images and calculate statistics\n",
    "\n",
    "def predict(net, loader, labels):\n",
    "    \n",
    "    n = len(labels)\n",
    "    classes_preds = {c: np.zeros(n, dtype=np.int32) for c in range(10)}\n",
    "    correct = 0\n",
    "    total = 0\n",
    "    \n",
    "    class_correct = list(0. for i in range(n))\n",
    "    class_total = list(0. for i in range(n))\n",
    "\n",
    "    with torch.no_grad():\n",
    "        for data in testloader:\n",
    "            images, labels = data\n",
    "            outputs = net(images)\n",
    "            _, predicted = torch.max(outputs, 1)\n",
    "            c = (predicted == labels).squeeze()\n",
    "\n",
    "            total += labels.size(0)\n",
    "            correct += c.sum().item()\n",
    "\n",
    "            for i in range(labels.size(0)):\n",
    "                label = labels[i]\n",
    "                l = label.item()\n",
    "                pred = predicted[i].item()\n",
    "                p = classes_preds[l]\n",
    "                p[pred] +=1                  \n",
    "                class_correct[label] += c[i].item()\n",
    "                class_total[label] += 1\n",
    "                \n",
    "    return classes_preds, correct, total, class_correct, class_total\n"
   ]
  },
  {
   "cell_type": "code",
   "execution_count": 30,
   "metadata": {
    "ExecuteTime": {
     "end_time": "2020-08-22T18:13:35.673358Z",
     "start_time": "2020-08-22T18:13:26.209Z"
    }
   },
   "outputs": [
    {
     "data": {
      "text/html": [
       "<div>\n",
       "<style scoped>\n",
       "    .dataframe tbody tr th:only-of-type {\n",
       "        vertical-align: middle;\n",
       "    }\n",
       "\n",
       "    .dataframe tbody tr th {\n",
       "        vertical-align: top;\n",
       "    }\n",
       "\n",
       "    .dataframe thead th {\n",
       "        text-align: right;\n",
       "    }\n",
       "</style>\n",
       "<table border=\"1\" class=\"dataframe\">\n",
       "  <thead>\n",
       "    <tr style=\"text-align: right;\">\n",
       "      <th></th>\n",
       "      <th>0</th>\n",
       "      <th>1</th>\n",
       "      <th>2</th>\n",
       "      <th>3</th>\n",
       "      <th>4</th>\n",
       "      <th>5</th>\n",
       "      <th>6</th>\n",
       "      <th>7</th>\n",
       "      <th>8</th>\n",
       "      <th>9</th>\n",
       "    </tr>\n",
       "  </thead>\n",
       "  <tbody>\n",
       "    <tr>\n",
       "      <th>0</th>\n",
       "      <td>977</td>\n",
       "      <td>0</td>\n",
       "      <td>0</td>\n",
       "      <td>0</td>\n",
       "      <td>0</td>\n",
       "      <td>0</td>\n",
       "      <td>0</td>\n",
       "      <td>1</td>\n",
       "      <td>2</td>\n",
       "      <td>0</td>\n",
       "    </tr>\n",
       "    <tr>\n",
       "      <th>1</th>\n",
       "      <td>0</td>\n",
       "      <td>1130</td>\n",
       "      <td>1</td>\n",
       "      <td>0</td>\n",
       "      <td>0</td>\n",
       "      <td>2</td>\n",
       "      <td>0</td>\n",
       "      <td>1</td>\n",
       "      <td>1</td>\n",
       "      <td>0</td>\n",
       "    </tr>\n",
       "    <tr>\n",
       "      <th>2</th>\n",
       "      <td>0</td>\n",
       "      <td>2</td>\n",
       "      <td>1026</td>\n",
       "      <td>0</td>\n",
       "      <td>0</td>\n",
       "      <td>0</td>\n",
       "      <td>0</td>\n",
       "      <td>3</td>\n",
       "      <td>1</td>\n",
       "      <td>0</td>\n",
       "    </tr>\n",
       "    <tr>\n",
       "      <th>3</th>\n",
       "      <td>0</td>\n",
       "      <td>1</td>\n",
       "      <td>6</td>\n",
       "      <td>989</td>\n",
       "      <td>0</td>\n",
       "      <td>10</td>\n",
       "      <td>0</td>\n",
       "      <td>3</td>\n",
       "      <td>1</td>\n",
       "      <td>0</td>\n",
       "    </tr>\n",
       "    <tr>\n",
       "      <th>4</th>\n",
       "      <td>1</td>\n",
       "      <td>0</td>\n",
       "      <td>1</td>\n",
       "      <td>0</td>\n",
       "      <td>974</td>\n",
       "      <td>0</td>\n",
       "      <td>2</td>\n",
       "      <td>0</td>\n",
       "      <td>0</td>\n",
       "      <td>4</td>\n",
       "    </tr>\n",
       "    <tr>\n",
       "      <th>5</th>\n",
       "      <td>2</td>\n",
       "      <td>0</td>\n",
       "      <td>0</td>\n",
       "      <td>2</td>\n",
       "      <td>0</td>\n",
       "      <td>886</td>\n",
       "      <td>1</td>\n",
       "      <td>1</td>\n",
       "      <td>0</td>\n",
       "      <td>0</td>\n",
       "    </tr>\n",
       "    <tr>\n",
       "      <th>6</th>\n",
       "      <td>11</td>\n",
       "      <td>3</td>\n",
       "      <td>2</td>\n",
       "      <td>0</td>\n",
       "      <td>3</td>\n",
       "      <td>4</td>\n",
       "      <td>934</td>\n",
       "      <td>0</td>\n",
       "      <td>1</td>\n",
       "      <td>0</td>\n",
       "    </tr>\n",
       "    <tr>\n",
       "      <th>7</th>\n",
       "      <td>0</td>\n",
       "      <td>5</td>\n",
       "      <td>5</td>\n",
       "      <td>0</td>\n",
       "      <td>0</td>\n",
       "      <td>0</td>\n",
       "      <td>0</td>\n",
       "      <td>1017</td>\n",
       "      <td>1</td>\n",
       "      <td>0</td>\n",
       "    </tr>\n",
       "    <tr>\n",
       "      <th>8</th>\n",
       "      <td>1</td>\n",
       "      <td>1</td>\n",
       "      <td>5</td>\n",
       "      <td>1</td>\n",
       "      <td>0</td>\n",
       "      <td>3</td>\n",
       "      <td>0</td>\n",
       "      <td>4</td>\n",
       "      <td>958</td>\n",
       "      <td>1</td>\n",
       "    </tr>\n",
       "    <tr>\n",
       "      <th>9</th>\n",
       "      <td>1</td>\n",
       "      <td>1</td>\n",
       "      <td>2</td>\n",
       "      <td>0</td>\n",
       "      <td>7</td>\n",
       "      <td>4</td>\n",
       "      <td>0</td>\n",
       "      <td>5</td>\n",
       "      <td>2</td>\n",
       "      <td>987</td>\n",
       "    </tr>\n",
       "  </tbody>\n",
       "</table>\n",
       "</div>"
      ],
      "text/plain": [
       "     0     1     2    3    4    5    6     7    8    9\n",
       "0  977     0     0    0    0    0    0     1    2    0\n",
       "1    0  1130     1    0    0    2    0     1    1    0\n",
       "2    0     2  1026    0    0    0    0     3    1    0\n",
       "3    0     1     6  989    0   10    0     3    1    0\n",
       "4    1     0     1    0  974    0    2     0    0    4\n",
       "5    2     0     0    2    0  886    1     1    0    0\n",
       "6   11     3     2    0    3    4  934     0    1    0\n",
       "7    0     5     5    0    0    0    0  1017    1    0\n",
       "8    1     1     5    1    0    3    0     4  958    1\n",
       "9    1     1     2    0    7    4    0     5    2  987"
      ]
     },
     "execution_count": 30,
     "metadata": {},
     "output_type": "execute_result"
    }
   ],
   "source": [
    "# predict test data and plot confusion matrix and accuracy per class\n",
    "labels = np.arange(10)\n",
    "classes_preds, correct, total, class_correct, class_total = predict(model, testloader, labels)\n",
    "test_df = pd.DataFrame.from_dict(classes_preds, orient='index', columns=classes_preds.keys())\n",
    "test_df"
   ]
  },
  {
   "cell_type": "markdown",
   "metadata": {},
   "source": [
    "## Confusion Matrix"
   ]
  },
  {
   "cell_type": "code",
   "execution_count": 31,
   "metadata": {
    "ExecuteTime": {
     "end_time": "2020-08-22T18:13:35.671167Z",
     "start_time": "2020-08-22T18:13:26.203Z"
    }
   },
   "outputs": [],
   "source": [
    "def plot_confusion_matrix(conf_df, title, fmt='.0f'):\n",
    "\n",
    "    fig, ax = plt.subplots(figsize=(10, 9))\n",
    "    ax.set_title(title, fontsize=16)\n",
    "    ano = True if conf_df.shape[0] < 100 else False\n",
    "    sns.heatmap(conf_df, annot=ano, fmt=fmt, ax=ax, cmap='Blues', cbar=False,\n",
    "                linewidths=.1, linecolor='black', square=True)\n",
    "    plt.ylabel('True Class', fontsize=16)\n",
    "    plt.xlabel('Predicted Class', fontsize=16)\n",
    "    plt.xticks(fontsize=16)\n",
    "    plt.yticks(fontsize=16)\n",
    "    plt.yticks(rotation=0) \n",
    "    plt.tight_layout()\n",
    "    plt.show()\n",
    "\n",
    "    return"
   ]
  },
  {
   "cell_type": "code",
   "execution_count": 32,
   "metadata": {
    "ExecuteTime": {
     "end_time": "2020-08-22T18:13:35.674438Z",
     "start_time": "2020-08-22T18:13:26.212Z"
    }
   },
   "outputs": [
    {
     "data": {
      "image/png": "[encoded data removed]",
      "text/plain": [
       "<Figure size 720x648 with 1 Axes>"
      ]
     },
     "metadata": {
      "needs_background": "light"
     },
     "output_type": "display_data"
    },
    {
     "name": "stdout",
     "output_type": "stream",
     "text": [
      "Accuracy of 0 - zero : 99 %\n",
      "Accuracy of 1 - one : 99 %\n",
      "Accuracy of 2 - two : 99 %\n",
      "Accuracy of 3 - three : 97 %\n",
      "Accuracy of 4 - four : 99 %\n",
      "Accuracy of 5 - five : 99 %\n",
      "Accuracy of 6 - six : 97 %\n",
      "Accuracy of 7 - seven : 98 %\n",
      "Accuracy of 8 - eight : 98 %\n",
      "Accuracy of 9 - nine : 97 %\n",
      "\n",
      "Total accuracy of the network on the 10000 test images: 98 %\n"
     ]
    }
   ],
   "source": [
    "np.set_printoptions(precision=2)\n",
    "\n",
    "plot_confusion_matrix(test_df, 'Confusion Matrix for all classes')\n",
    "\n",
    "for i in range(10):\n",
    "    print('Accuracy of %5s : %2d %%' % (\n",
    "        classes[i], 100 * class_correct[i] / class_total[i]))\n",
    "print('')\n",
    "print(f'Total accuracy of the network on the {total} test images: %d %%' % (\n",
    "    100 * correct / total))"
   ]
  },
  {
   "cell_type": "markdown",
   "metadata": {},
   "source": [
    "##  Tensorboard data\n",
    "\n",
    "On commandline run `tensorboard --logdir=runs` \n",
    "\n",
    "and open http://localhost:6006/\n",
    "\n",
    "See https://pytorch.org/tutorials/intermediate/tensorboard_tutorial.html\n",
    "\n",
    "\n",
    "or uncomment the last 2 cells\n"
   ]
  },
  {
   "cell_type": "code",
   "execution_count": 33,
   "metadata": {
    "ExecuteTime": {
     "end_time": "2020-08-22T18:13:35.675466Z",
     "start_time": "2020-08-22T18:13:26.429Z"
    }
   },
   "outputs": [],
   "source": [
    "# 1. gets the probability predictions in a test_size x num_classes Tensor\n",
    "# 2. gets the preds in a test_size Tensor\n",
    "\n",
    "def get_preds_probs(model, testloader):\n",
    "    class_probs = []\n",
    "    class_preds = []\n",
    "    with torch.no_grad():\n",
    "        for data in testloader:\n",
    "            images, labels = data\n",
    "            output = model(images)\n",
    "            class_probs_batch = [F.softmax(el, dim=0) for el in output]\n",
    "            _, class_preds_batch = torch.max(output, 1)\n",
    "\n",
    "            class_probs.append(class_probs_batch)\n",
    "            class_preds.append(class_preds_batch)\n",
    "    return class_probs, class_preds\n",
    "\n",
    "\n",
    "def add_pr_curve_tensorboard(class_index, test_probs, test_preds, global_step=0):\n",
    "    '''\n",
    "    Takes in a \"class_index\" from 0 to 9 and plots the corresponding\n",
    "    precision-recall curve\n",
    "    '''\n",
    "    tensorboard_preds = test_preds == class_index\n",
    "    tensorboard_probs = test_probs[:, class_index]\n",
    "\n",
    "    writer.add_pr_curve(classes[class_index],\n",
    "                        tensorboard_preds,\n",
    "                        tensorboard_probs,\n",
    "                        global_step=global_step)\n",
    "    writer.close()\n",
    "\n",
    "\n",
    "class_probs, class_preds = get_preds_probs(model, testloader)\n",
    "test_probs = torch.cat([torch.stack(batch) for batch in class_probs])\n",
    "test_preds = torch.cat(class_preds)\n",
    "\n",
    "# plot all the pr curves\n",
    "for i in range(len(classes)):\n",
    "    add_pr_curve_tensorboard(i, test_probs, test_preds)#"
   ]
  },
  {
   "cell_type": "code",
   "execution_count": 36,
   "metadata": {},
   "outputs": [],
   "source": [
    "# %load_ext tensorboard"
   ]
  },
  {
   "cell_type": "code",
   "execution_count": 37,
   "metadata": {},
   "outputs": [],
   "source": [
    "# %tensorboard --logdir=runs"
   ]
  },
  {
   "cell_type": "code",
   "execution_count": null,
   "metadata": {},
   "outputs": [],
   "source": []
  }
 ],
 "metadata": {
  "kernelspec": {
   "display_name": "propulsion",
   "language": "python",
   "name": "propulsion"
  },
  "language_info": {
   "codemirror_mode": {
    "name": "ipython",
    "version": 3
   },
   "file_extension": ".py",
   "mimetype": "text/x-python",
   "name": "python",
   "nbconvert_exporter": "python",
   "pygments_lexer": "ipython3",
   "version": "3.8.2"
  },
  "latex_envs": {
   "LaTeX_envs_menu_present": true,
   "autoclose": false,
   "autocomplete": true,
   "bibliofile": "biblio.bib",
   "cite_by": "apalike",
   "current_citInitial": 1,
   "eqLabelWithNumbers": true,
   "eqNumInitial": 1,
   "hotkeys": {
    "equation": "Ctrl-E",
    "itemize": "Ctrl-I"
   },
   "labels_anchors": false,
   "latex_user_defs": false,
   "report_style_numbering": false,
   "user_envs_cfg": false
  },
  "toc": {
   "base_numbering": 1,
   "nav_menu": {},
   "number_sections": true,
   "sideBar": true,
   "skip_h1_title": false,
   "title_cell": "Table of Contents",
   "title_sidebar": "Contents",
   "toc_cell": false,
   "toc_position": {},
   "toc_section_display": true,
   "toc_window_display": true
  },
  "varInspector": {
   "cols": {
    "lenName": 16,
    "lenType": 16,
    "lenVar": 40
   },
   "kernels_config": {
    "python": {
     "delete_cmd_postfix": "",
     "delete_cmd_prefix": "del ",
     "library": "var_list.py",
     "varRefreshCmd": "print(var_dic_list())"
    },
    "r": {
     "delete_cmd_postfix": ") ",
     "delete_cmd_prefix": "rm(",
     "library": "var_list.r",
     "varRefreshCmd": "cat(var_dic_list()) "
    }
   },
   "types_to_exclude": [
    "module",
    "function",
    "builtin_function_or_method",
    "instance",
    "_Feature"
   ],
   "window_display": false
  }
 },
 "nbformat": 4,
 "nbformat_minor": 4
}
